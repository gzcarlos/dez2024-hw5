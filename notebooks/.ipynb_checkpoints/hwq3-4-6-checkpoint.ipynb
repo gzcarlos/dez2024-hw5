{
 "cells": [
  {
   "cell_type": "code",
   "execution_count": 39,
   "id": "8b2d7596-7eb0-4c51-8745-46f6c83a6ca2",
   "metadata": {},
   "outputs": [],
   "source": [
    "import pyspark\n",
    "from pyspark.sql import SparkSession\n",
    "\n",
    "import pandas as pd\n",
    "from pyspark.sql import types\n",
    "from pyspark.sql.functions import col"
   ]
  },
  {
   "cell_type": "code",
   "execution_count": 3,
   "id": "80cebdae-9183-43f6-877d-9315ec014698",
   "metadata": {},
   "outputs": [
    {
     "name": "stdout",
     "output_type": "stream",
     "text": [
      "24/03/03 16:47:42 WARN Utils: Your hostname, codespaces-eb9fcb resolves to a loopback address: 127.0.0.1; using 172.16.5.4 instead (on interface eth0)\n",
      "24/03/03 16:47:42 WARN Utils: Set SPARK_LOCAL_IP if you need to bind to another address\n"
     ]
    },
    {
     "name": "stderr",
     "output_type": "stream",
     "text": [
      "Setting default log level to \"WARN\".\n",
      "To adjust logging level use sc.setLogLevel(newLevel). For SparkR, use setLogLevel(newLevel).\n"
     ]
    },
    {
     "name": "stdout",
     "output_type": "stream",
     "text": [
      "24/03/03 16:47:43 WARN NativeCodeLoader: Unable to load native-hadoop library for your platform... using builtin-java classes where applicable\n"
     ]
    }
   ],
   "source": [
    "spark = SparkSession.builder \\\n",
    "    .master(\"local[*]\") \\\n",
    "    .appName('test') \\\n",
    "    .getOrCreate()"
   ]
  },
  {
   "cell_type": "code",
   "execution_count": 43,
   "id": "77077d39-3300-48f8-9da9-5caa8bc655e8",
   "metadata": {},
   "outputs": [],
   "source": [
    "df = spark.read.parquet('fhvhv/2019/10/')"
   ]
  },
  {
   "cell_type": "code",
   "execution_count": 44,
   "id": "48447848-2915-47a9-8610-80e4eae52965",
   "metadata": {},
   "outputs": [
    {
     "name": "stdout",
     "output_type": "stream",
     "text": [
      "+--------------------+-------------------+-------------------+------------+------------+-------+----------------------+\n",
      "|dispatching_base_num|    pickup_datetime|   dropoff_datetime|PULocationID|DOLocationID|SR_Flag|Affiliated_base_number|\n",
      "+--------------------+-------------------+-------------------+------------+------------+-------+----------------------+\n",
      "|              B02784|2019-10-01 09:55:38|2019-10-01 10:05:43|          89|          85|   null|                  null|\n",
      "|              B02429|2019-10-21 04:15:47|2019-10-21 04:36:04|         264|         264|   null|                B02429|\n",
      "|              B01482|2019-10-19 12:00:00|2019-10-19 12:20:00|         264|         264|   null|                B01482|\n",
      "|              B03015|2019-10-11 14:28:00|2019-10-11 14:32:44|         264|         216|   null|                B03015|\n",
      "|              B01529|2019-10-21 18:00:26|2019-10-21 18:07:21|         264|          80|   null|                B01529|\n",
      "|              B00477|2019-10-03 19:30:35|2019-10-03 20:27:57|         161|          14|   null|                B00477|\n",
      "|              B00937|2019-10-25 06:10:40|2019-10-25 06:29:43|         264|         208|   null|                B00937|\n",
      "|     B00889         |2019-10-30 06:18:02|2019-10-30 06:35:12|         260|         260|   null|       B00889         |\n",
      "|              B01239|2019-10-09 03:39:16|2019-10-09 03:42:07|         264|         254|   null|                B00882|\n",
      "|              B00256|2019-10-27 11:54:37|2019-10-27 12:28:18|         264|         264|   null|                B00256|\n",
      "|              B01087|2019-10-14 18:41:24|2019-10-14 19:02:06|         261|         186|   null|                B01087|\n",
      "|              B02846|2019-10-19 11:42:45|2019-10-19 12:42:42|         264|          23|   null|                B02846|\n",
      "|              B02546|2019-10-17 15:20:32|2019-10-17 15:25:51|         264|         167|   null|                B02546|\n",
      "|              B02803|2019-10-21 05:00:47|2019-10-21 05:03:44|          47|         169|   null|                B02803|\n",
      "|              B01644|2019-10-14 11:34:00|2019-10-14 13:12:00|         264|         264|   null|                B01644|\n",
      "|              B01454|2019-10-13 07:08:41|2019-10-13 07:13:43|         264|         188|   null|                B01454|\n",
      "|              B01239|2019-10-24 06:05:22|2019-10-24 06:15:03|         264|         174|   null|                B00882|\n",
      "|              B01751|2019-10-20 09:49:18|2019-10-20 10:40:59|         264|         264|   null|                B01751|\n",
      "|              B00887|2019-10-06 17:17:28|2019-10-06 18:12:14|         264|         132|   null|                B00887|\n",
      "|              B01362|2019-10-07 11:25:57|2019-10-07 11:39:15|         264|         185|   null|                B01362|\n",
      "+--------------------+-------------------+-------------------+------------+------------+-------+----------------------+\n",
      "only showing top 20 rows\n",
      "\n"
     ]
    }
   ],
   "source": [
    "df.show()"
   ]
  },
  {
   "cell_type": "code",
   "execution_count": 45,
   "id": "b7b953b6-7b51-4e78-97ff-fd1c5b5218c7",
   "metadata": {},
   "outputs": [
    {
     "name": "stderr",
     "output_type": "stream",
     "text": [
      "/home/codespace/spark/spark-3.3.2-bin-hadoop3/python/pyspark/sql/dataframe.py:229: FutureWarning: Deprecated in 2.0, use createOrReplaceTempView instead.\n",
      "  warnings.warn(\"Deprecated in 2.0, use createOrReplaceTempView instead.\", FutureWarning)\n"
     ]
    }
   ],
   "source": [
    "df.registerTempTable('trips')"
   ]
  },
  {
   "cell_type": "code",
   "execution_count": 46,
   "id": "10d28df2-dc95-4e23-b6e7-c17fcccc0795",
   "metadata": {},
   "outputs": [
    {
     "name": "stdout",
     "output_type": "stream",
     "text": [
      "+-----+\n",
      "|  qty|\n",
      "+-----+\n",
      "|62610|\n",
      "+-----+\n",
      "\n"
     ]
    }
   ],
   "source": [
    "# Q3 - How many taxi trips were there on the 15th of October?\n",
    "spark.sql(\"\"\"\n",
    "SELECT \n",
    "    COUNT(*) qty\n",
    "FROM  \n",
    "    trips\n",
    "WHERE \n",
    "    pickup_datetime BETWEEN '2019-10-15 00:00:00' and '2019-10-15 23:59:59'\n",
    "\"\"\").show()"
   ]
  },
  {
   "cell_type": "code",
   "execution_count": 47,
   "id": "7d87ddc0-0432-47e5-9f2d-d79ea35629bb",
   "metadata": {},
   "outputs": [
    {
     "name": "stderr",
     "output_type": "stream",
     "text": [
      "[Stage 33:>                                                         (0 + 2) / 2]\r"
     ]
    },
    {
     "name": "stdout",
     "output_type": "stream",
     "text": [
      "+-------------+\n",
      "|max_trip_hour|\n",
      "+-------------+\n",
      "|       631152|\n",
      "+-------------+\n",
      "\n"
     ]
    },
    {
     "name": "stderr",
     "output_type": "stream",
     "text": [
      "                                                                                \r"
     ]
    }
   ],
   "source": [
    "# Q4 - What is the length of the longest trip in the dataset in hours?\n",
    "spark.sql(\"\"\"\n",
    "SELECT \n",
    "  MAX(datediff(dropoff_datetime,pickup_datetime) * 24) max_trip_hour\n",
    "FROM\n",
    "    trips\n",
    "\"\"\").show()"
   ]
  },
  {
   "cell_type": "code",
   "execution_count": 48,
   "id": "7a6934d6-7ae9-4d35-bf16-960b69caf6ec",
   "metadata": {},
   "outputs": [],
   "source": [
    "zones_schema = types.StructType([\n",
    "    types.StructField('LocationID', types.IntegerType(), True),\n",
    "    types.StructField('Borough', types.StringType(), True),\n",
    "    types.StructField('Zone', types.StringType(), True),\n",
    "    types.StructField('service_zone', types.StringType(), True),\n",
    "])\n",
    "\n",
    "df_zones = spark.read \\\n",
    "    .option(\"header\", \"true\") \\\n",
    "    .schema(zones_schema) \\\n",
    "    .csv('taxi+_zone_lookup.csv')\n",
    "\n",
    "df_zones.write.parquet('zones', mode='overwrite')\n",
    "# df_zones.show()\n"
   ]
  },
  {
   "cell_type": "code",
   "execution_count": 49,
   "id": "e8e64199-2f62-435f-9164-695a1637744c",
   "metadata": {},
   "outputs": [
    {
     "data": {
      "text/plain": [
       "StructType([StructField('LocationID', IntegerType(), True), StructField('Borough', StringType(), True), StructField('Zone', StringType(), True), StructField('service_zone', StringType(), True)])"
      ]
     },
     "execution_count": 49,
     "metadata": {},
     "output_type": "execute_result"
    }
   ],
   "source": [
    "df_zones.schema"
   ]
  },
  {
   "cell_type": "code",
   "execution_count": 50,
   "id": "f0f52112-df49-4ae1-8ec6-878539366e72",
   "metadata": {},
   "outputs": [
    {
     "name": "stdout",
     "output_type": "stream",
     "text": [
      "+----------+-------------+--------------------+------------+\n",
      "|LocationID|      Borough|                Zone|service_zone|\n",
      "+----------+-------------+--------------------+------------+\n",
      "|         1|          EWR|      Newark Airport|         EWR|\n",
      "|         2|       Queens|         Jamaica Bay|   Boro Zone|\n",
      "|         3|        Bronx|Allerton/Pelham G...|   Boro Zone|\n",
      "|         4|    Manhattan|       Alphabet City| Yellow Zone|\n",
      "|         5|Staten Island|       Arden Heights|   Boro Zone|\n",
      "|         6|Staten Island|Arrochar/Fort Wad...|   Boro Zone|\n",
      "|         7|       Queens|             Astoria|   Boro Zone|\n",
      "|         8|       Queens|        Astoria Park|   Boro Zone|\n",
      "|         9|       Queens|          Auburndale|   Boro Zone|\n",
      "|        10|       Queens|        Baisley Park|   Boro Zone|\n",
      "|        11|     Brooklyn|          Bath Beach|   Boro Zone|\n",
      "|        12|    Manhattan|        Battery Park| Yellow Zone|\n",
      "|        13|    Manhattan|   Battery Park City| Yellow Zone|\n",
      "|        14|     Brooklyn|           Bay Ridge|   Boro Zone|\n",
      "|        15|       Queens|Bay Terrace/Fort ...|   Boro Zone|\n",
      "|        16|       Queens|             Bayside|   Boro Zone|\n",
      "|        17|     Brooklyn|             Bedford|   Boro Zone|\n",
      "|        18|        Bronx|        Bedford Park|   Boro Zone|\n",
      "|        19|       Queens|           Bellerose|   Boro Zone|\n",
      "|        20|        Bronx|             Belmont|   Boro Zone|\n",
      "+----------+-------------+--------------------+------------+\n",
      "only showing top 20 rows\n",
      "\n"
     ]
    }
   ],
   "source": [
    "df_zones.show()"
   ]
  },
  {
   "cell_type": "code",
   "execution_count": 51,
   "id": "33d71d7d-5639-4557-a7c5-e9e56218f4a0",
   "metadata": {},
   "outputs": [],
   "source": [
    "# Q6 - Using the zone lookup data and the FHV October 2019 data, what is the name of the LEAST frequent pickup location Zone?\n",
    "df_result = df.withColumn('LocationID', col('PULocationID')) \\\n",
    "    .join(df_zones, on='LocationID')"
   ]
  },
  {
   "cell_type": "code",
   "execution_count": 52,
   "id": "c760fc4b-752f-4f44-bab5-a89b7602b73c",
   "metadata": {},
   "outputs": [
    {
     "name": "stderr",
     "output_type": "stream",
     "text": [
      "                                                                                \r"
     ]
    }
   ],
   "source": [
    "df_result.write.parquet('reports/data')"
   ]
  },
  {
   "cell_type": "code",
   "execution_count": 54,
   "id": "b60b0ae9-d39f-466a-8029-3797a3e21c9c",
   "metadata": {},
   "outputs": [],
   "source": [
    "df_result.registerTempTable('trips_and_zones')"
   ]
  },
  {
   "cell_type": "code",
   "execution_count": 58,
   "id": "bf43aab3-ba46-4f4d-9793-81f5af352654",
   "metadata": {},
   "outputs": [
    {
     "name": "stderr",
     "output_type": "stream",
     "text": [
      "[Stage 45:>                                                         (0 + 2) / 2]\r"
     ]
    },
    {
     "name": "stdout",
     "output_type": "stream",
     "text": [
      "+----------+--------------------+---+\n",
      "|LocationID|                Zone|qty|\n",
      "+----------+--------------------+---+\n",
      "|         2|         Jamaica Bay|  1|\n",
      "|       105|Governor's Island...|  2|\n",
      "|       111| Green-Wood Cemetery|  5|\n",
      "|        30|       Broad Channel|  8|\n",
      "|       120|     Highbridge Park| 14|\n",
      "|        12|        Battery Park| 15|\n",
      "|       207|Saint Michaels Ce...| 23|\n",
      "|        27|Breezy Point/Fort...| 25|\n",
      "|       154|Marine Park/Floyd...| 26|\n",
      "|         8|        Astoria Park| 29|\n",
      "|       128|    Inwood Hill Park| 39|\n",
      "|       253|       Willets Point| 47|\n",
      "|        96|Forest Park/Highl...| 53|\n",
      "|        34|  Brooklyn Navy Yard| 57|\n",
      "|        59|        Crotona Park| 62|\n",
      "|        58|        Country Club| 77|\n",
      "|        99|     Freshkills Park| 89|\n",
      "|       190|       Prospect Park| 98|\n",
      "|        54|     Columbia Street|105|\n",
      "|       217|  South Williamsburg|110|\n",
      "+----------+--------------------+---+\n",
      "only showing top 20 rows\n",
      "\n"
     ]
    },
    {
     "name": "stderr",
     "output_type": "stream",
     "text": [
      "                                                                                \r"
     ]
    }
   ],
   "source": [
    "spark.sql(\"\"\"\n",
    "SELECT\n",
    "    LocationID,\n",
    "    Zone,\n",
    "    COUNT(1) as qty\n",
    "FROM \n",
    "    trips_and_zones\n",
    "GROUP BY \n",
    "    LocationID, Zone\n",
    "ORDER BY 3 ASC\n",
    "\"\"\").show()"
   ]
  }
 ],
 "metadata": {
  "kernelspec": {
   "display_name": "Python 3 (ipykernel)",
   "language": "python",
   "name": "python3"
  },
  "language_info": {
   "codemirror_mode": {
    "name": "ipython",
    "version": 3
   },
   "file_extension": ".py",
   "mimetype": "text/x-python",
   "name": "python",
   "nbconvert_exporter": "python",
   "pygments_lexer": "ipython3",
   "version": "3.10.13"
  }
 },
 "nbformat": 4,
 "nbformat_minor": 5
}
